{
 "cells": [
  {
   "cell_type": "markdown",
   "metadata": {},
   "source": [
    "# The RFM Model"
   ]
  },
  {
   "cell_type": "markdown",
   "metadata": {},
   "source": [
    "In this project, I'll build a customer churn model based off of data from BoomBrush, a Dutch e-commerce site. The objective of this notebook is to explore the Recency, Frequency, Monetary (RFM) model.\n",
    "\n",
    "Why churn? It's more cost effective to retain existing customers than to acquire new ones, which is why it's important to track customers at high risk of turnover (churn) and target them with retention strategies."
   ]
  },
  {
   "cell_type": "markdown",
   "metadata": {},
   "source": [
    "* `Recency`: represents the age of the customer when they made their most recent purchases. This is equal to the duration between a customer’s first purchase and their latest purchase. (Thus if they have made only 1 purchase, the recency is 0.)\n",
    "* `Frequency`: number of transactions made over a given period\n",
    "* `Monetary_value`: represents the average value of a given customer’s purchases. This is equal to the sum of all a customer’s purchases divided by the total number of purchases.\n",
    "* `SubscriptionLifetime`: represents the age of the customer in whatever time units chosen (daily in this casse). This is equal to the duration between a customer’s first purchase and the end of the period under study.\n",
    "\n",
    "In the dataset, recency is calculated by counting each order ID. For this purpose, we will subtract recency with -1 in order to comply to the official definition of recency stated in the [Lifetimes documentation](https://readthedocs.org/projects/lifetimes/downloads/pdf/latest/#)."
   ]
  },
  {
   "cell_type": "markdown",
   "metadata": {},
   "source": [
    "### Load the data"
   ]
  },
  {
   "cell_type": "markdown",
   "metadata": {},
   "source": [
    "We start with our imports:"
   ]
  },
  {
   "cell_type": "code",
   "execution_count": 1,
   "metadata": {},
   "outputs": [],
   "source": [
    "# Import libraries\n",
    "import pandas as pd\n",
    "import seaborn as sns\n",
    "import matplotlib.pyplot as plt\n",
    "import squarify\n",
    "\n",
    "from lifetimes import BetaGeoFitter,GammaGammaFitter\n",
    "from lifetimes.plotting import plot_probability_alive_matrix, plot_frequency_recency_matrix, plot_period_transactions, plot_cumulative_transactions,plot_incremental_transactions\n",
    "# from lifetimes.generate_data import beta_geometric_nbd_model\n",
    "# from lifetimes.plotting import plot_calibration_purchases_vs_holdout_purchases, plot_period_transactions,plot_history_alive"
   ]
  },
  {
   "cell_type": "markdown",
   "metadata": {},
   "source": [
    "Now we'll read our dataset with pandas:"
   ]
  },
  {
   "cell_type": "code",
   "execution_count": 2,
   "metadata": {},
   "outputs": [
    {
     "data": {
      "text/html": [
       "<div>\n",
       "<style scoped>\n",
       "    .dataframe tbody tr th:only-of-type {\n",
       "        vertical-align: middle;\n",
       "    }\n",
       "\n",
       "    .dataframe tbody tr th {\n",
       "        vertical-align: top;\n",
       "    }\n",
       "\n",
       "    .dataframe thead th {\n",
       "        text-align: right;\n",
       "    }\n",
       "</style>\n",
       "<table border=\"1\" class=\"dataframe\">\n",
       "  <thead>\n",
       "    <tr style=\"text-align: right;\">\n",
       "      <th></th>\n",
       "      <th>ID</th>\n",
       "      <th>Subscription</th>\n",
       "      <th>Refill</th>\n",
       "      <th>Interval</th>\n",
       "      <th>Price per interval</th>\n",
       "      <th>PaymentMethod</th>\n",
       "      <th>Products</th>\n",
       "      <th>Transactions</th>\n",
       "      <th>Revenue</th>\n",
       "      <th>DaysSinceLastOrder</th>\n",
       "      <th>SubscriptionLifetime</th>\n",
       "      <th>Active</th>\n",
       "      <th>SubscriptionLifetimeBin</th>\n",
       "    </tr>\n",
       "  </thead>\n",
       "  <tbody>\n",
       "    <tr>\n",
       "      <th>0</th>\n",
       "      <td>2092329948149575290</td>\n",
       "      <td>1</td>\n",
       "      <td>0</td>\n",
       "      <td>3</td>\n",
       "      <td>5.0</td>\n",
       "      <td>ideal</td>\n",
       "      <td>Brush</td>\n",
       "      <td>1</td>\n",
       "      <td>54.0</td>\n",
       "      <td>217</td>\n",
       "      <td>217</td>\n",
       "      <td>0</td>\n",
       "      <td>High</td>\n",
       "    </tr>\n",
       "    <tr>\n",
       "      <th>1</th>\n",
       "      <td>12849545117712085541</td>\n",
       "      <td>1</td>\n",
       "      <td>0</td>\n",
       "      <td>2</td>\n",
       "      <td>10.0</td>\n",
       "      <td>ideal</td>\n",
       "      <td>Brush</td>\n",
       "      <td>1</td>\n",
       "      <td>98.0</td>\n",
       "      <td>66</td>\n",
       "      <td>66</td>\n",
       "      <td>0</td>\n",
       "      <td>Medium</td>\n",
       "    </tr>\n",
       "    <tr>\n",
       "      <th>2</th>\n",
       "      <td>8144808881881603173</td>\n",
       "      <td>1</td>\n",
       "      <td>0</td>\n",
       "      <td>2</td>\n",
       "      <td>5.0</td>\n",
       "      <td>ideal</td>\n",
       "      <td>Brush</td>\n",
       "      <td>1</td>\n",
       "      <td>69.0</td>\n",
       "      <td>66</td>\n",
       "      <td>66</td>\n",
       "      <td>0</td>\n",
       "      <td>Medium</td>\n",
       "    </tr>\n",
       "    <tr>\n",
       "      <th>3</th>\n",
       "      <td>14457143150027122736</td>\n",
       "      <td>1</td>\n",
       "      <td>0</td>\n",
       "      <td>3</td>\n",
       "      <td>10.0</td>\n",
       "      <td>ideal</td>\n",
       "      <td>Brush</td>\n",
       "      <td>1</td>\n",
       "      <td>98.0</td>\n",
       "      <td>66</td>\n",
       "      <td>66</td>\n",
       "      <td>0</td>\n",
       "      <td>Medium</td>\n",
       "    </tr>\n",
       "    <tr>\n",
       "      <th>4</th>\n",
       "      <td>9143720643862541019</td>\n",
       "      <td>1</td>\n",
       "      <td>0</td>\n",
       "      <td>3</td>\n",
       "      <td>10.0</td>\n",
       "      <td>ideal</td>\n",
       "      <td>Brush</td>\n",
       "      <td>1</td>\n",
       "      <td>98.0</td>\n",
       "      <td>66</td>\n",
       "      <td>66</td>\n",
       "      <td>0</td>\n",
       "      <td>Medium</td>\n",
       "    </tr>\n",
       "  </tbody>\n",
       "</table>\n",
       "</div>"
      ],
      "text/plain": [
       "                     ID  Subscription  Refill  Interval  Price per interval  \\\n",
       "0   2092329948149575290             1       0         3                 5.0   \n",
       "1  12849545117712085541             1       0         2                10.0   \n",
       "2   8144808881881603173             1       0         2                 5.0   \n",
       "3  14457143150027122736             1       0         3                10.0   \n",
       "4   9143720643862541019             1       0         3                10.0   \n",
       "\n",
       "  PaymentMethod Products  Transactions  Revenue  DaysSinceLastOrder  \\\n",
       "0         ideal    Brush             1     54.0                 217   \n",
       "1         ideal    Brush             1     98.0                  66   \n",
       "2         ideal    Brush             1     69.0                  66   \n",
       "3         ideal    Brush             1     98.0                  66   \n",
       "4         ideal    Brush             1     98.0                  66   \n",
       "\n",
       "   SubscriptionLifetime  Active SubscriptionLifetimeBin  \n",
       "0                   217       0                    High  \n",
       "1                    66       0                  Medium  \n",
       "2                    66       0                  Medium  \n",
       "3                    66       0                  Medium  \n",
       "4                    66       0                  Medium  "
      ]
     },
     "execution_count": 2,
     "metadata": {},
     "output_type": "execute_result"
    }
   ],
   "source": [
    "# Read data\n",
    "data = pd.read_csv(\"../data/data_prediction.csv\")\n",
    "# data = pd.read_csv(\"../data/summary_cal_holdout.csv\")\n",
    "data.head(5)"
   ]
  },
  {
   "cell_type": "markdown",
   "metadata": {},
   "source": [
    "As we already calculated the variabls for the RFM model, we will only rename them for clarity purposes."
   ]
  },
  {
   "cell_type": "code",
   "execution_count": 3,
   "metadata": {},
   "outputs": [
    {
     "data": {
      "text/html": [
       "<div>\n",
       "<style scoped>\n",
       "    .dataframe tbody tr th:only-of-type {\n",
       "        vertical-align: middle;\n",
       "    }\n",
       "\n",
       "    .dataframe tbody tr th {\n",
       "        vertical-align: top;\n",
       "    }\n",
       "\n",
       "    .dataframe thead th {\n",
       "        text-align: right;\n",
       "    }\n",
       "</style>\n",
       "<table border=\"1\" class=\"dataframe\">\n",
       "  <thead>\n",
       "    <tr style=\"text-align: right;\">\n",
       "      <th></th>\n",
       "      <th>ID</th>\n",
       "      <th>Recency</th>\n",
       "      <th>Frequency</th>\n",
       "      <th>MonetaryValue</th>\n",
       "    </tr>\n",
       "  </thead>\n",
       "  <tbody>\n",
       "    <tr>\n",
       "      <th>0</th>\n",
       "      <td>2092329948149575290</td>\n",
       "      <td>217</td>\n",
       "      <td>1</td>\n",
       "      <td>54.0</td>\n",
       "    </tr>\n",
       "    <tr>\n",
       "      <th>1</th>\n",
       "      <td>12849545117712085541</td>\n",
       "      <td>66</td>\n",
       "      <td>1</td>\n",
       "      <td>98.0</td>\n",
       "    </tr>\n",
       "    <tr>\n",
       "      <th>2</th>\n",
       "      <td>8144808881881603173</td>\n",
       "      <td>66</td>\n",
       "      <td>1</td>\n",
       "      <td>69.0</td>\n",
       "    </tr>\n",
       "    <tr>\n",
       "      <th>3</th>\n",
       "      <td>14457143150027122736</td>\n",
       "      <td>66</td>\n",
       "      <td>1</td>\n",
       "      <td>98.0</td>\n",
       "    </tr>\n",
       "    <tr>\n",
       "      <th>4</th>\n",
       "      <td>9143720643862541019</td>\n",
       "      <td>66</td>\n",
       "      <td>1</td>\n",
       "      <td>98.0</td>\n",
       "    </tr>\n",
       "  </tbody>\n",
       "</table>\n",
       "</div>"
      ],
      "text/plain": [
       "                     ID  Recency  Frequency  MonetaryValue\n",
       "0   2092329948149575290      217          1           54.0\n",
       "1  12849545117712085541       66          1           98.0\n",
       "2   8144808881881603173       66          1           69.0\n",
       "3  14457143150027122736       66          1           98.0\n",
       "4   9143720643862541019       66          1           98.0"
      ]
     },
     "execution_count": 3,
     "metadata": {},
     "output_type": "execute_result"
    }
   ],
   "source": [
    "data = data.rename(columns={\"DaysSinceLastOrder\":\"Recency\",\n",
    "                           \"Transactions\":\"Frequency\",\n",
    "                           \"Revenue\":\"MonetaryValue\"})\n",
    "data = data[[\"ID\",\"Recency\",\"Frequency\",\"MonetaryValue\"]]\n",
    "data.head(5)"
   ]
  },
  {
   "cell_type": "markdown",
   "metadata": {},
   "source": [
    "Let’s examine the distribution of our Recency, Frequency, and MonetaryValue."
   ]
  },
  {
   "cell_type": "code",
   "execution_count": 4,
   "metadata": {},
   "outputs": [
    {
     "data": {
      "text/plain": [
       "dtype('int64')"
      ]
     },
     "execution_count": 4,
     "metadata": {},
     "output_type": "execute_result"
    }
   ],
   "source": [
    "data['Frequency'].dtype"
   ]
  },
  {
   "cell_type": "code",
   "execution_count": 5,
   "metadata": {},
   "outputs": [
    {
     "data": {
      "image/png": "[encoded data removed]",
      "text/plain": [
       "<Figure size 864x720 with 3 Axes>"
      ]
     },
     "metadata": {
      "needs_background": "light"
     },
     "output_type": "display_data"
    }
   ],
   "source": [
    "# Plot RFM distributions\n",
    "plt.figure(figsize=(12,10))\n",
    "\n",
    "# Plot distribution of Recency\n",
    "plt.subplot(3, 1, 1); sns.distplot(data['Recency'])\n",
    "\n",
    "# Plot distribution of Frequency\n",
    "plt.subplot(3, 1, 2); sns.distplot(data['Frequency'],kde=False)\n",
    "\n",
    "# Plot distribution of MonetaryValue\n",
    "plt.subplot(3, 1, 3); sns.distplot(data['MonetaryValue'])\n",
    "\n",
    "# Show the plot\n",
    "plt.show()"
   ]
  },
  {
   "cell_type": "markdown",
   "metadata": {},
   "source": [
    "These plots show us the distribution of the variables. `Recency` is fairly normaly distributed, although it is a bet skewed to the left. `Frequency` is extremely skewed to the left, meaning most people just purchase once. `MonetaryValue` is also skewed to the left, which is in line with the one-purchase insight."
   ]
  },
  {
   "cell_type": "markdown",
   "metadata": {},
   "source": [
    "## Calculate the R, F and M scores\n",
    "\n",
    "At this point, I have the values for Recency, Frequency and Monetary parameters. Each customer will get a note between 1 and 5 for each parameter.\n",
    "We can do this by setting ranges based on expected behavior. For example, to rate Recency, we could use this scale:\n",
    "    * 1: 0-30 days\n",
    "    * 2: 31-60 days\n",
    "    * 3: 61-90 days\n",
    "    * 4: 91-180 days\n",
    "    * 5: 181-365 days\n",
    "\n",
    "We could also use quintiles. Each quintiles contains 20% of the population. Using quintiles is more flexible as the ranges will adapt to the data and would work across different industries or if there's any change in expected customer behavior.\n",
    "I am going to use the quintiles method. First, I get the quintiles for each parameter.\n",
    "\n",
    "Resource: https://guillaume-martin.github.io/rfm-segmentation-with-python.html"
   ]
  },
  {
   "cell_type": "code",
   "execution_count": 6,
   "metadata": {},
   "outputs": [],
   "source": [
    "# # Createe labels\n",
    "# labels = [\"0-30 days\",\"31-60 days\",\"61-90 days\",\"91-180 days\",\"181-365 days\"]\n",
    "# cutoff = [0,30,60,90,180,364]\n",
    "# data[\"R\"] = pd.cut(data[\"Recency\"],cutoff,labels=labels)\n",
    "# data.sort_values(by=\"R\",ascending=False).head(5)\n"
   ]
  },
  {
   "cell_type": "code",
   "execution_count": 7,
   "metadata": {},
   "outputs": [],
   "source": [
    "data[\"Frequency\"] = data[\"Frequency\"]-1"
   ]
  },
  {
   "cell_type": "code",
   "execution_count": 8,
   "metadata": {},
   "outputs": [],
   "source": [
    "# # Get quintiles for each parameter\n",
    "# quintiles = data[['Recency', 'Frequency', 'MonetaryValue']].quantile([.2, .4, .6, .8]).to_dict()\n",
    "# quintiles"
   ]
  },
  {
   "cell_type": "code",
   "execution_count": 9,
   "metadata": {},
   "outputs": [],
   "source": [
    "# def r_score(x):\n",
    "#     if x <= quintiles['Recency'][.2]:\n",
    "#         return 5\n",
    "#     elif x <= quintiles['Recency'][.4]:\n",
    "#         return 4\n",
    "#     elif x <= quintiles['Recency'][.6]:\n",
    "#         return 3\n",
    "#     elif x <= quintiles['Recency'][.8]:\n",
    "#         return 2\n",
    "#     else:\n",
    "#         return 1\n",
    "    \n",
    "# def fm_score(x, c):\n",
    "#     if x <= quintiles[c][.2]:\n",
    "#         return 1\n",
    "#     elif x <= quintiles[c][.4]:\n",
    "#         return 2\n",
    "#     elif x <= quintiles[c][.6]:\n",
    "#         return 3\n",
    "#     elif x <= quintiles[c][.8]:\n",
    "#         return 4\n",
    "#     else:\n",
    "#         return 5 "
   ]
  },
  {
   "cell_type": "code",
   "execution_count": 10,
   "metadata": {},
   "outputs": [
    {
     "name": "stdout",
     "output_type": "stream",
     "text": [
      "0\n",
      "255\n"
     ]
    }
   ],
   "source": [
    "print(data['Recency'].min())\n",
    "print(data['Recency'].max())"
   ]
  },
  {
   "cell_type": "code",
   "execution_count": 11,
   "metadata": {},
   "outputs": [
    {
     "name": "stdout",
     "output_type": "stream",
     "text": [
      "1\n",
      "5\n"
     ]
    }
   ],
   "source": [
    "print(data['Frequency'].min())\n",
    "print(data['Frequency'].max())"
   ]
  },
  {
   "cell_type": "code",
   "execution_count": 12,
   "metadata": {},
   "outputs": [
    {
     "name": "stdout",
     "output_type": "stream",
     "text": [
      "13.8\n",
      "523.0\n"
     ]
    }
   ],
   "source": [
    "print(data['MonetaryValue'].min())\n",
    "print(data['MonetaryValue'].max())"
   ]
  },
  {
   "cell_type": "code",
   "execution_count": 13,
   "metadata": {},
   "outputs": [],
   "source": [
    "# # Apply score functions\n",
    "# data['R'] = data['Recency'].apply(lambda x: r_score(x))\n",
    "# data['F'] = data['Frequency'].apply(lambda x: fm_score(x, 'Frequency'))\n",
    "# data['M'] = data['MonetaryValue'].apply(lambda x: fm_score(x, 'MonetaryValue'))"
   ]
  },
  {
   "cell_type": "code",
   "execution_count": 14,
   "metadata": {},
   "outputs": [],
   "source": [
    "# # Combine R,F,M into RFM Score\n",
    "# data['RFM Score'] = data['R'].map(str) + data['F'].map(str) + data['M'].map(str)\n",
    "# data.head()"
   ]
  },
  {
   "cell_type": "code",
   "execution_count": 15,
   "metadata": {},
   "outputs": [],
   "source": [
    "# # Create segments\n",
    "# segt_map = {\n",
    "#     r'[1-2][1-2]': 'hibernating',\n",
    "#     r'[1-2][3-4]': 'at risk',\n",
    "#     r'[1-2]5': 'can\\'t loose',\n",
    "#     r'3[1-2]': 'about to sleep',\n",
    "#     r'33': 'need attention',\n",
    "#     r'[3-4][4-5]': 'loyal customers',\n",
    "#     r'41': 'promising',\n",
    "#     r'51': 'new customers',\n",
    "#     r'[4-5][2-3]': 'potential loyalists',\n",
    "#     r'5[4-5]': 'champions'\n",
    "# }\n",
    "\n",
    "# data['Segment'] = data['R'].map(str) + data['F'].map(str)\n",
    "# data['Segment'] = data['Segment'].replace(segt_map, regex=True)\n",
    "# data.head()"
   ]
  },
  {
   "cell_type": "code",
   "execution_count": 16,
   "metadata": {},
   "outputs": [],
   "source": [
    "# # Define rfm_level function\n",
    "# def recency(data):\n",
    "#     if data['Recency'] >= 9:\n",
    "#         return 'Can\\'t Loose Them'\n",
    "#     elif (data['RFM Score'] == 8):\n",
    "#         return 'Champions'\n",
    "#     elif (data['RFM Score'] >= 7):\n",
    "#         return 'Loyal'\n",
    "#     elif (data['RFM Score'] >= 6):\n",
    "#         return 'Potential'\n",
    "#     elif (data['RFM Score'] >= 5):\n",
    "#         return 'Promising'\n",
    "#     else:\n",
    "#         return 'Needs Attention'\n",
    "# # Create a new variable RFM_Level\n",
    "# data['RFM_Level'] = data.apply(rfm_level, axis=1)"
   ]
  },
  {
   "cell_type": "code",
   "execution_count": 17,
   "metadata": {},
   "outputs": [],
   "source": [
    "# # Calculate RFM_Score\n",
    "# data['RFM Score'] = data[['R','F','M']].sum(axis=1)\n",
    "# print(data['RFM Score'].head())"
   ]
  },
  {
   "cell_type": "code",
   "execution_count": 18,
   "metadata": {},
   "outputs": [],
   "source": [
    "# # Define rfm_level function\n",
    "# def rfm_level(data):\n",
    "#     if data['RFM Score'] >= 9:\n",
    "#         return 'Champions'\n",
    "#     elif (data['RFM Score'] == 8):\n",
    "#         return 'Loyal'\n",
    "#     elif (data['RFM Score'] >= 7):\n",
    "#         return 'Can\\’t Lose Them'\n",
    "#     elif (data['RFM Score'] >= 6):\n",
    "#         return 'Potential'\n",
    "#     elif (data['RFM Score'] >= 5):\n",
    "#         return 'Promising'\n",
    "#     else:\n",
    "#         return 'Needs Attention'\n",
    "# # Create a new variable RFM_Level\n",
    "# data['RFM_Level'] = data.apply(rfm_level, axis=1)\n",
    "# # Print the header with top 5 rows to the console\n",
    "# data.sort_values(by=\"RFM Score\", ascending=False).head(50)\n",
    "\n",
    "# # https://towardsdatascience.com/recency-frequency-monetary-model-with-python-and-how-sephora-uses-it-to-optimize-their-google-d6a0707c5f17"
   ]
  },
  {
   "cell_type": "code",
   "execution_count": 21,
   "metadata": {},
   "outputs": [],
   "source": [
    "# rfm_level_agg['Count']"
   ]
  },
  {
   "cell_type": "code",
   "execution_count": 22,
   "metadata": {},
   "outputs": [],
   "source": [
    "# segment = data[data[\"RFM_Level\"]=='Champions']\n",
    "# print(\"Champions:\")\n",
    "# print(segment[\"Recency\"].min())\n",
    "# print(segment[\"Recency\"].max())\n",
    "# print(segment[\"Frequency\"].min())\n",
    "# print(segment[\"Frequency\"].max())\n",
    "\n",
    "# segment = data[data[\"RFM_Level\"]=='Loyal']\n",
    "# print(\"Loyal:\")\n",
    "# print(segment[\"Recency\"].min())\n",
    "# print(segment[\"Recency\"].max())\n",
    "# print(segment[\"Frequency\"].min())\n",
    "# print(segment[\"Frequency\"].max())\n",
    "\n",
    "# segment = data[data[\"RFM_Level\"]=='Can\\'t Loose Them']\n",
    "# print(\"Can\\'t Loose Them:\")\n",
    "# print(segment[\"Recency\"].min())\n",
    "# print(segment[\"Recency\"].max())\n",
    "# print(segment[\"Frequency\"].min())\n",
    "# print(segment[\"Frequency\"].max())\n",
    "\n",
    "# segment = data[data[\"RFM_Level\"]=='Needs Attention']\n",
    "# print(\"Needs Attention:\")\n",
    "# print(segment[\"Recency\"].min())\n",
    "# print(segment[\"Recency\"].max())\n",
    "# print(segment[\"Frequency\"].min())\n",
    "# print(segment[\"Frequency\"].max())\n",
    "\n",
    "# segment = data[data[\"RFM_Level\"]=='Potential']\n",
    "# print(\"Potential:\")\n",
    "# print(segment[\"Recency\"].min())\n",
    "# print(segment[\"Recency\"].max())\n",
    "# print(segment[\"Frequency\"].min())\n",
    "# print(segment[\"Frequency\"].max())\n",
    "\n",
    "# segment = data[data[\"RFM_Level\"]=='Promising']\n",
    "# print(\"Promising:\")\n",
    "# print(segment[\"Recency\"].min())\n",
    "# print(segment[\"Recency\"].max())\n",
    "# print(segment[\"Frequency\"].min())\n",
    "# print(segment[\"Frequency\"].max())\n",
    "# print(segment[\"Frequency\"].max())"
   ]
  },
  {
   "cell_type": "code",
   "execution_count": 23,
   "metadata": {},
   "outputs": [],
   "source": [
    "# Now that we have a cleaner dataset let's save a new csv\n",
    "data.to_csv(\"../data/data_rfm.csv\",index=False)"
   ]
  },
  {
   "cell_type": "code",
   "execution_count": 24,
   "metadata": {},
   "outputs": [],
   "source": [
    "rfm = data"
   ]
  },
  {
   "cell_type": "code",
   "execution_count": 27,
   "metadata": {},
   "outputs": [
    {
     "data": {
      "text/html": [
       "<div>\n",
       "<style scoped>\n",
       "    .dataframe tbody tr th:only-of-type {\n",
       "        vertical-align: middle;\n",
       "    }\n",
       "\n",
       "    .dataframe tbody tr th {\n",
       "        vertical-align: top;\n",
       "    }\n",
       "\n",
       "    .dataframe thead th {\n",
       "        text-align: right;\n",
       "    }\n",
       "</style>\n",
       "<table border=\"1\" class=\"dataframe\">\n",
       "  <thead>\n",
       "    <tr style=\"text-align: right;\">\n",
       "      <th></th>\n",
       "      <th>ID</th>\n",
       "      <th>Recency</th>\n",
       "      <th>Frequency</th>\n",
       "      <th>MonetaryValue</th>\n",
       "      <th>R</th>\n",
       "      <th>F</th>\n",
       "      <th>M</th>\n",
       "      <th>RFM_Segment</th>\n",
       "      <th>RFM_Score</th>\n",
       "      <th>Segment</th>\n",
       "      <th>Score</th>\n",
       "    </tr>\n",
       "  </thead>\n",
       "  <tbody>\n",
       "    <tr>\n",
       "      <th>0</th>\n",
       "      <td>2092329948149575290</td>\n",
       "      <td>217</td>\n",
       "      <td>1</td>\n",
       "      <td>54.0</td>\n",
       "      <td>4</td>\n",
       "      <td>1</td>\n",
       "      <td>2</td>\n",
       "      <td>412</td>\n",
       "      <td>7</td>\n",
       "      <td>New customers</td>\n",
       "      <td>Bronze</td>\n",
       "    </tr>\n",
       "    <tr>\n",
       "      <th>1</th>\n",
       "      <td>12849545117712085541</td>\n",
       "      <td>66</td>\n",
       "      <td>1</td>\n",
       "      <td>98.0</td>\n",
       "      <td>2</td>\n",
       "      <td>1</td>\n",
       "      <td>4</td>\n",
       "      <td>214</td>\n",
       "      <td>7</td>\n",
       "      <td>Hibernating</td>\n",
       "      <td>Bronze</td>\n",
       "    </tr>\n",
       "    <tr>\n",
       "      <th>2</th>\n",
       "      <td>8144808881881603173</td>\n",
       "      <td>66</td>\n",
       "      <td>1</td>\n",
       "      <td>69.0</td>\n",
       "      <td>2</td>\n",
       "      <td>1</td>\n",
       "      <td>3</td>\n",
       "      <td>213</td>\n",
       "      <td>6</td>\n",
       "      <td>Hibernating</td>\n",
       "      <td>Bronze</td>\n",
       "    </tr>\n",
       "    <tr>\n",
       "      <th>3</th>\n",
       "      <td>14457143150027122736</td>\n",
       "      <td>66</td>\n",
       "      <td>1</td>\n",
       "      <td>98.0</td>\n",
       "      <td>2</td>\n",
       "      <td>1</td>\n",
       "      <td>4</td>\n",
       "      <td>214</td>\n",
       "      <td>7</td>\n",
       "      <td>Hibernating</td>\n",
       "      <td>Bronze</td>\n",
       "    </tr>\n",
       "    <tr>\n",
       "      <th>4</th>\n",
       "      <td>9143720643862541019</td>\n",
       "      <td>66</td>\n",
       "      <td>1</td>\n",
       "      <td>98.0</td>\n",
       "      <td>2</td>\n",
       "      <td>1</td>\n",
       "      <td>4</td>\n",
       "      <td>214</td>\n",
       "      <td>7</td>\n",
       "      <td>Hibernating</td>\n",
       "      <td>Bronze</td>\n",
       "    </tr>\n",
       "  </tbody>\n",
       "</table>\n",
       "</div>"
      ],
      "text/plain": [
       "                     ID  Recency  Frequency  MonetaryValue  R  F  M  \\\n",
       "0   2092329948149575290      217          1           54.0  4  1  2   \n",
       "1  12849545117712085541       66          1           98.0  2  1  4   \n",
       "2   8144808881881603173       66          1           69.0  2  1  3   \n",
       "3  14457143150027122736       66          1           98.0  2  1  4   \n",
       "4   9143720643862541019       66          1           98.0  2  1  4   \n",
       "\n",
       "  RFM_Segment  RFM_Score        Segment   Score  \n",
       "0         412          7  New customers  Bronze  \n",
       "1         214          7    Hibernating  Bronze  \n",
       "2         213          6    Hibernating  Bronze  \n",
       "3         214          7    Hibernating  Bronze  \n",
       "4         214          7    Hibernating  Bronze  "
      ]
     },
     "execution_count": 27,
     "metadata": {},
     "output_type": "execute_result"
    }
   ],
   "source": [
    "# Create the quartiles scores\n",
    "quantiles = data.quantile(q=[0.25,0.5,0.75])\n",
    "quantiles = quantiles.to_dict()\n",
    "    \n",
    "def RFMScore(x,p,d):\n",
    "    if x <= d[p][0.25]:\n",
    "        return 1\n",
    "    elif x <= d[p][0.50]:\n",
    "        return 2\n",
    "    elif x <= d[p][0.75]: \n",
    "        return 3\n",
    "    else:\n",
    "        return 4\n",
    "rfm['R'] = rfm['Recency'].apply(RFMScore, args=('Recency',quantiles,))\n",
    "rfm['F'] = rfm['Frequency'].apply(RFMScore, args=('Frequency',quantiles,))\n",
    "rfm['M'] = rfm['MonetaryValue'].apply(RFMScore, args=('MonetaryValue',quantiles,))\n",
    "# Concat RFM quartile values to create RFM Segments\n",
    "def join_rfm(x): return str(x['R']) + str(x['F']) + str(x['M'])\n",
    "rfm['RFM_Segment'] = rfm.apply(join_rfm, axis=1)\n",
    "# Calculate RFM_Score\n",
    "rfm['RFM_Score'] = rfm[['R','F','M']].sum(axis=1)\n",
    "# Create human friendly RFM labels\n",
    "segt_map = {\n",
    "    r'[1-2][1-2]': 'Hibernating',\n",
    "    r'[1-2][2-3]': 'At risk',\n",
    "    r'[1-2]4': 'Can\\'t loose them',\n",
    "    r'2[1-2]': 'About to sleep',\n",
    "    r'22': 'Need attention',\n",
    "    r'[2-3][3-4]': 'Loyal customers',\n",
    "    r'31': 'Promising',\n",
    "    r'41': 'New customers',\n",
    "    r'[3-4][1-2]': 'Potential loyalists',\n",
    "    r'4[3-4]': 'Champions'\n",
    "}\n",
    "rfm['Segment'] = rfm['R'].map(str) + rfm['F'].map(str)\n",
    "rfm['Segment'] = rfm['Segment'].replace(segt_map, regex=True)\n",
    "# Create some human friendly labels for the scores\n",
    "rfm['Score'] = 'Green'\n",
    "rfm.loc[rfm['RFM_Score']>5,'Score'] = 'Bronze' \n",
    "rfm.loc[rfm['RFM_Score']>7,'Score'] = 'Silver' \n",
    "rfm.loc[rfm['RFM_Score']>9,'Score'] = 'Gold' \n",
    "rfm.loc[rfm['RFM_Score']>10,'Score'] = 'Platinum'\n",
    "# List the head of the table to view the \n",
    "rfm.head(5)\n",
    "\n",
    "\n",
    "# Source : https://futurice.com/blog/know-your-customers-with-rfm"
   ]
  },
  {
   "cell_type": "code",
   "execution_count": 26,
   "metadata": {},
   "outputs": [
    {
     "data": {
      "text/plain": [
       "Hibernating         431\n",
       "Promising           224\n",
       "New customers       216\n",
       "Can't loose them     48\n",
       "Champions            18\n",
       "Loyal customers       8\n",
       "Name: Segment, dtype: int64"
      ]
     },
     "execution_count": 26,
     "metadata": {},
     "output_type": "execute_result"
    }
   ],
   "source": [
    "rfm[\"Segment\"].value_counts()"
   ]
  },
  {
   "cell_type": "code",
   "execution_count": 40,
   "metadata": {},
   "outputs": [
    {
     "data": {
      "text/html": [
       "<div>\n",
       "<style scoped>\n",
       "    .dataframe tbody tr th:only-of-type {\n",
       "        vertical-align: middle;\n",
       "    }\n",
       "\n",
       "    .dataframe tbody tr th {\n",
       "        vertical-align: top;\n",
       "    }\n",
       "\n",
       "    .dataframe thead tr th {\n",
       "        text-align: left;\n",
       "    }\n",
       "\n",
       "    .dataframe thead tr:last-of-type th {\n",
       "        text-align: right;\n",
       "    }\n",
       "</style>\n",
       "<table border=\"1\" class=\"dataframe\">\n",
       "  <thead>\n",
       "    <tr>\n",
       "      <th></th>\n",
       "      <th colspan=\"2\" halign=\"left\">Recency</th>\n",
       "      <th colspan=\"2\" halign=\"left\">Frequency</th>\n",
       "      <th colspan=\"2\" halign=\"left\">MonetaryValue</th>\n",
       "    </tr>\n",
       "    <tr>\n",
       "      <th></th>\n",
       "      <th>min</th>\n",
       "      <th>max</th>\n",
       "      <th>min</th>\n",
       "      <th>max</th>\n",
       "      <th>mean</th>\n",
       "      <th>count</th>\n",
       "    </tr>\n",
       "    <tr>\n",
       "      <th>Segment</th>\n",
       "      <th></th>\n",
       "      <th></th>\n",
       "      <th></th>\n",
       "      <th></th>\n",
       "      <th></th>\n",
       "      <th></th>\n",
       "    </tr>\n",
       "  </thead>\n",
       "  <tbody>\n",
       "    <tr>\n",
       "      <th>Can't loose them</th>\n",
       "      <td>0</td>\n",
       "      <td>83</td>\n",
       "      <td>2</td>\n",
       "      <td>4</td>\n",
       "      <td>164.0</td>\n",
       "      <td>48</td>\n",
       "    </tr>\n",
       "    <tr>\n",
       "      <th>Champions</th>\n",
       "      <td>105</td>\n",
       "      <td>247</td>\n",
       "      <td>2</td>\n",
       "      <td>5</td>\n",
       "      <td>137.8</td>\n",
       "      <td>18</td>\n",
       "    </tr>\n",
       "    <tr>\n",
       "      <th>Hibernating</th>\n",
       "      <td>1</td>\n",
       "      <td>83</td>\n",
       "      <td>1</td>\n",
       "      <td>1</td>\n",
       "      <td>66.9</td>\n",
       "      <td>431</td>\n",
       "    </tr>\n",
       "    <tr>\n",
       "      <th>Loyal customers</th>\n",
       "      <td>86</td>\n",
       "      <td>104</td>\n",
       "      <td>2</td>\n",
       "      <td>4</td>\n",
       "      <td>143.8</td>\n",
       "      <td>8</td>\n",
       "    </tr>\n",
       "    <tr>\n",
       "      <th>New customers</th>\n",
       "      <td>105</td>\n",
       "      <td>255</td>\n",
       "      <td>1</td>\n",
       "      <td>1</td>\n",
       "      <td>63.0</td>\n",
       "      <td>216</td>\n",
       "    </tr>\n",
       "    <tr>\n",
       "      <th>Promising</th>\n",
       "      <td>84</td>\n",
       "      <td>104</td>\n",
       "      <td>1</td>\n",
       "      <td>1</td>\n",
       "      <td>62.5</td>\n",
       "      <td>224</td>\n",
       "    </tr>\n",
       "  </tbody>\n",
       "</table>\n",
       "</div>"
      ],
      "text/plain": [
       "                 Recency      Frequency     MonetaryValue      \n",
       "                     min  max       min max          mean count\n",
       "Segment                                                        \n",
       "Can't loose them       0   83         2   4         164.0    48\n",
       "Champions            105  247         2   5         137.8    18\n",
       "Hibernating            1   83         1   1          66.9   431\n",
       "Loyal customers       86  104         2   4         143.8     8\n",
       "New customers        105  255         1   1          63.0   216\n",
       "Promising             84  104         1   1          62.5   224"
      ]
     },
     "execution_count": 40,
     "metadata": {},
     "output_type": "execute_result"
    }
   ],
   "source": [
    "# Calculate average values for each RFM_Level, and return a size of each segment \n",
    "rfm_segment_agg = rfm.groupby('Segment').agg({\n",
    "    'Recency': ['min','max'],\n",
    "    'Frequency': ['min','max'],\n",
    "    'MonetaryValue': ['mean', 'count']\n",
    "}).round(1)\n",
    "# Print the aggregated dataset\n",
    "rfm_segment_agg"
   ]
  },
  {
   "cell_type": "code",
   "execution_count": 33,
   "metadata": {},
   "outputs": [],
   "source": [
    "# # Create plot\n",
    "# rfm_level_agg.columns = rfm_level_agg.columns.droplevel()\n",
    "# rfm_level_agg.columns = ['RecencyMean','FrequencyMean','MonetaryMean', 'Count']\n",
    "# #Create our plot and resize it.\n",
    "# fig = plt.gcf()\n",
    "# ax = fig.add_subplot()\n",
    "# fig.set_size_inches(16, 9)\n",
    "# squarify.plot(sizes=rfm_level_agg['Count'], \n",
    "#               label=['Can\\'t Loose Them',\n",
    "#                      'Champions',\n",
    "#                      'Loyal',\n",
    "#                      'Needs Attention',\n",
    "#                      'Potential', \n",
    "#                      'Promising'], alpha=.6 )\n",
    "# plt.title(\"RFM Segments\",fontsize=18,fontweight=\"bold\")\n",
    "# plt.axis()\n",
    "# plt.xlabel(\"test\")\n",
    "# plt.ylabel(\"ylabel\")\n",
    "# plt.show()"
   ]
  }
 ],
 "metadata": {
  "kernelspec": {
   "display_name": "Python 3",
   "language": "python",
   "name": "python3"
  },
  "language_info": {
   "codemirror_mode": {
    "name": "ipython",
    "version": 3
   },
   "file_extension": ".py",
   "mimetype": "text/x-python",
   "name": "python",
   "nbconvert_exporter": "python",
   "pygments_lexer": "ipython3",
   "version": "3.7.6"
  }
 },
 "nbformat": 4,
 "nbformat_minor": 2
}
